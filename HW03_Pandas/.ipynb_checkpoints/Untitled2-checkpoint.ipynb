{
 "cells": [
  {
   "cell_type": "code",
   "execution_count": null,
   "metadata": {},
   "outputs": [],
   "source": [
    "import pandas as pd\n",
    "import numpy as np\n",
    "from pathlib import Path\n",
    "%matplotlib inline"
   ]
  },
  {
   "cell_type": "code",
   "execution_count": null,
   "metadata": {},
   "outputs": [],
   "source": [
    "# Uploading CSV files from the location\n",
    "aapl_upload = Path(\"C:\\\\Users\\\\vinot\\\\Fintech_Homeworks\\\\HW03_Pandas\\\\aapl_historical.csv\")\n",
    "algo_upload = Path(\"C:\\\\Users\\\\vinot\\\\Fintech_Homeworks\\\\HW03_Pandas\\\\algo_returns.csv\")\n",
    "cost_upload = Path(\"C:\\\\Users\\\\vinot\\\\Fintech_Homeworks\\\\HW03_Pandas\\\\cost_historical.csv\")\n",
    "goog_upload = Path(\"C:\\\\Users\\\\vinot\\\\Fintech_Homeworks\\\\HW03_Pandas\\\\goog_historical.csv\")\n",
    "sp500_upload=Path(\"C:\\\\Users\\\\vinot\\\\Fintech_Homeworks\\\\HW03_Pandas\\\\sp500_history.csv\")\n",
    "whale_upload=Path(\"C:\\\\Users\\\\vinot\\\\Fintech_Homeworks\\\\HW03_Pandas\\\\whale_returns.csv\")"
   ]
  },
  {
   "cell_type": "code",
   "execution_count": null,
   "metadata": {},
   "outputs": [],
   "source": [
    "#Reading the uploaded CSV files\n",
    "appl_data=pd.read_csv(aapl_upload,index_col=\"Trade DATE\",parse_dates=True,infer_datetime_format=True)\n",
    "algo_data=pd.read_csv(algo_upload,index_col=\"Date\",parse_dates=True,infer_datetime_format=True)\n",
    "cost_data=pd.read_csv(cost_upload,index_col=\"Trade DATE\",parse_dates=True,infer_datetime_format=True)\n",
    "goog_data=pd.read_csv(goog_upload,index_col=\"Trade DATE\",parse_dates=True,infer_datetime_format=True)\n",
    "whale_data=pd.read_csv(whale_upload,index_col=\"Date\",parse_dates=True,infer_datetime_format=True)\n",
    "sp500_data=pd.read_csv(sp500_upload,index_col=\"Date\",parse_dates=True,infer_datetime_format=True)"
   ]
  },
  {
   "cell_type": "code",
   "execution_count": null,
   "metadata": {},
   "outputs": [],
   "source": [
    "#sampling header data from whale returns\n",
    "whale_data.head()"
   ]
  },
  {
   "cell_type": "code",
   "execution_count": null,
   "metadata": {},
   "outputs": [],
   "source": [
    "whale_data.isnull().sum()"
   ]
  },
  {
   "cell_type": "code",
   "execution_count": null,
   "metadata": {},
   "outputs": [],
   "source": [
    "whale_data.dropna(inplace=True)\n",
    "whale_data.isnull().sum()"
   ]
  }
 ],
 "metadata": {
  "kernelspec": {
   "display_name": "Python 3",
   "language": "python",
   "name": "python3"
  },
  "language_info": {
   "codemirror_mode": {
    "name": "ipython",
    "version": 3
   },
   "file_extension": ".py",
   "mimetype": "text/x-python",
   "name": "python",
   "nbconvert_exporter": "python",
   "pygments_lexer": "ipython3",
   "version": "3.7.7"
  }
 },
 "nbformat": 4,
 "nbformat_minor": 4
}
